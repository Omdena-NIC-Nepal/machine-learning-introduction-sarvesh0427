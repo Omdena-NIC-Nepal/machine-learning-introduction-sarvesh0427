{
  "nbformat": 4,
  "nbformat_minor": 0,
  "metadata": {
    "colab": {
      "provenance": []
    },
    "kernelspec": {
      "name": "python3",
      "display_name": "Python 3"
    },
    "language_info": {
      "name": "python"
    }
  },
  "cells": [
    {
      "cell_type": "code",
      "execution_count": 11,
      "metadata": {
        "id": "5kvRkYIIvTC5"
      },
      "outputs": [],
      "source": [
        "import numpy as np\n",
        "import pandas as pd\n",
        "import matplotlib.pyplot as plt\n",
        "import seaborn as sns\n",
        "import warnings\n",
        "warnings.filterwarnings(\"ignore\")"
      ]
    },
    {
      "cell_type": "code",
      "source": [
        "df = pd.read_csv(\"BostonHousing.csv\")"
      ],
      "metadata": {
        "id": "PzNTrV7VwCkD"
      },
      "execution_count": 12,
      "outputs": []
    },
    {
      "cell_type": "code",
      "source": [
        "from sklearn.preprocessing import StandardScaler"
      ],
      "metadata": {
        "id": "zmLH5NiqwrA5"
      },
      "execution_count": 13,
      "outputs": []
    },
    {
      "cell_type": "code",
      "source": [
        "# Normalize/standardize numerical features\n",
        "\n",
        "target_col = 'medv'\n",
        "X = df.drop(columns=[target_col])\n",
        "y = df[target_col]\n",
        "\n",
        "# Only apply scaling to numeric columns\n",
        "numeric_cols = X.select_dtypes(include=['float64', 'int64']).columns\n",
        "\n",
        "# Initialize scaler\n",
        "scaler = StandardScaler()\n",
        "\n",
        "# Fit and transform\n",
        "X_scaled = scaler.fit_transform(X[numeric_cols])\n",
        "\n",
        "# Convert scaled array back to DataFrame\n",
        "X_scaled_df = pd.DataFrame(X_scaled, columns=numeric_cols)\n",
        "\n",
        "# Combining scaled features with target again if required\n",
        "df_scaled = pd.concat([X_scaled_df, y], axis=1)"
      ],
      "metadata": {
        "id": "_QSKdCvRwOE9"
      },
      "execution_count": 14,
      "outputs": []
    },
    {
      "cell_type": "code",
      "source": [
        "from sklearn.model_selection import train_test_split\n",
        "\n",
        "X_train, X_test, y_train, y_test = train_test_split(X_scaled_df, y, test_size = 0.2, random_state = 42)"
      ],
      "metadata": {
        "id": "pQbSQ6d_xHbq"
      },
      "execution_count": 15,
      "outputs": []
    },
    {
      "cell_type": "code",
      "source": [
        "# Choose appropriate features for the model\n",
        "\n",
        "# Calculate correlation with target\n",
        "correlations = df_scaled.corr()['medv'].drop('medv').sort_values(ascending=False)\n",
        "\n",
        "# Display top N most correlated features\n",
        "top_features = correlations.head(10).index.tolist()\n",
        "print(\"Top features:\", top_features)\n",
        "\n",
        "# Select only top features for training\n",
        "X_selected = X_scaled_df[top_features]"
      ],
      "metadata": {
        "colab": {
          "base_uri": "https://localhost:8080/"
        },
        "id": "SxzlEKM1zTBW",
        "outputId": "51f3433e-4e77-4a57-8251-dc7b31b4b19a"
      },
      "execution_count": 16,
      "outputs": [
        {
          "output_type": "stream",
          "name": "stdout",
          "text": [
            "Top features: ['rm', 'zn', 'b', 'dis', 'chas', 'age', 'rad', 'crim', 'nox', 'tax']\n"
          ]
        }
      ]
    },
    {
      "cell_type": "code",
      "source": [
        "# Train a linear regression model\n",
        "\n",
        "from sklearn.model_selection import train_test_split\n",
        "X_train_sel, X_test_sel, y_train, y_test = train_test_split(X_selected, y, test_size=0.2, random_state=42)\n",
        "from sklearn.linear_model import LinearRegression\n",
        "lr_model = LinearRegression()\n",
        "lr_model.fit(X_train_sel, y_train)\n",
        "y_pred = lr_model.predict(X_test_sel)"
      ],
      "metadata": {
        "id": "dn4X1ZbPzePB"
      },
      "execution_count": 17,
      "outputs": []
    }
  ]
}